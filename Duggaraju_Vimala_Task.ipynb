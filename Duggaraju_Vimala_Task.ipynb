{
  "nbformat": 4,
  "nbformat_minor": 0,
  "metadata": {
    "colab": {
      "provenance": []
    },
    "kernelspec": {
      "name": "python3",
      "display_name": "Python 3"
    },
    "language_info": {
      "name": "python"
    },
    "gpuClass": "standard"
  },
  "cells": [
    {
      "cell_type": "markdown",
      "source": [
        "# Crawling"
      ],
      "metadata": {
        "id": "1B8LjQi_GBmw"
      }
    },
    {
      "cell_type": "markdown",
      "source": [
        "# Task 1\n",
        "- Create crawler/Scraper using Python [Preferable using Scrapy] to scrape data\n",
        "from https://www.forbes.com/lists/global2000/?sh=45f017755ac0 and save data\n",
        "in JSON format, attribute-wise.\n",
        "- Get the list of all 2000 companies.\n",
        "- Final Json document should contain\n",
        "  -  Rank\n",
        "  -  Name\n",
        "  - Country\n",
        "  -  Sales\n",
        "  -  Profit\n",
        "  -  Assets\n",
        "  -  Market Value\n",
        "  -  Link to individual company profile"
      ],
      "metadata": {
        "id": "jwCKRacvnRvU"
      }
    },
    {
      "cell_type": "code",
      "source": [
        "import requests\n",
        "from bs4 import BeautifulSoup\n",
        "import re\n",
        "import numpy as np\n",
        "import csv\n",
        "import pandas as pd\n",
        "from selenium import webdriver"
      ],
      "metadata": {
        "id": "k0MpN3FkX4xY"
      },
      "execution_count": 50,
      "outputs": []
    },
    {
      "cell_type": "code",
      "source": [
        "url = \"http://www.forbes.com/lists/global2000/?sh=45f017755ac0\"\n",
        "data = dict()\n",
        "def fetch_all(keyval):\n",
        "  page = requests.get(url)\n",
        "  soup = BeautifulSoup(page.content, 'html.parser')\n",
        "  value = soup.find_all('div', class_=keyval)\n",
        "  data[keyval] = [i.text for i in value]"
      ],
      "metadata": {
        "id": "lKC3nZV6A4dZ"
      },
      "execution_count": 51,
      "outputs": []
    },
    {
      "cell_type": "code",
      "source": [
        "for i in ['rank','organizationName','country','revenue','profits','assets','marketValue']:\n",
        "  fetch_all(i)"
      ],
      "metadata": {
        "id": "ksHdLQs8B7Dm"
      },
      "execution_count": 52,
      "outputs": []
    },
    {
      "cell_type": "code",
      "source": [
        "df =pd.DataFrame.from_dict(data, orient='index')"
      ],
      "metadata": {
        "id": "kDBP1P3eCtet"
      },
      "execution_count": 53,
      "outputs": []
    },
    {
      "cell_type": "code",
      "source": [
        "df2 = df.T"
      ],
      "metadata": {
        "id": "b5RFvUAKG-Vc"
      },
      "execution_count": 54,
      "outputs": []
    },
    {
      "cell_type": "code",
      "source": [
        "df2"
      ],
      "metadata": {
        "id": "AuRaNGkqC2Hc",
        "outputId": "a8d97974-98c4-469a-de77-74cce29efc46",
        "colab": {
          "base_uri": "https://localhost:8080/",
          "height": 424
        }
      },
      "execution_count": 55,
      "outputs": [
        {
          "output_type": "execute_result",
          "data": {
            "text/plain": [
              "       rank                           organizationName        country  \\\n",
              "0        1.                         Berkshire Hathaway  United States   \n",
              "1        2.                                       ICBC          China   \n",
              "2        3.   Saudi Arabian Oil Company (Saudi Aramco)   Saudi Arabia   \n",
              "3        4.                             JPMorgan Chase  United States   \n",
              "4        5.                    China Construction Bank          China   \n",
              "...     ...                                        ...            ...   \n",
              "1995  1995.  Shenzhen Feima International Supply Chain          China   \n",
              "1996  1997.                                       NMDC          India   \n",
              "1997  1997.                 Sichuan Changhong Electric          China   \n",
              "1998  1999.                         Satellite Chemical          China   \n",
              "1999  2000.                            Sun Communities  United States   \n",
              "\n",
              "        revenue    profits       assets  marketValue  \n",
              "0     $276.09 B    $89.8 B    $958.78 B    $741.48 B  \n",
              "1     $208.13 B   $54.03 B  $5,518.51 B    $214.43 B  \n",
              "2     $400.38 B  $105.36 B    $576.04 B  $2,292.08 B  \n",
              "3     $124.54 B   $42.12 B  $3,954.69 B    $374.45 B  \n",
              "4     $202.07 B   $46.89 B  $4,746.95 B    $181.32 B  \n",
              "...         ...        ...          ...          ...  \n",
              "1995      $37 M    $1.41 B       $166 M      $1.14 B  \n",
              "1996    $3.52 B    $1.41 B      $5.71 B       $6.4 B  \n",
              "1997   $15.72 B    $53.1 M     $12.11 B      $1.96 B  \n",
              "1998    $4.41 B   $931.3 M      $7.64 B      $9.52 B  \n",
              "1999    $2.27 B   $375.7 M     $13.49 B     $21.71 B  \n",
              "\n",
              "[2000 rows x 7 columns]"
            ],
            "text/html": [
              "\n",
              "  <div id=\"df-07a04e0a-8e93-4d48-8f5a-ffb504bee2e6\">\n",
              "    <div class=\"colab-df-container\">\n",
              "      <div>\n",
              "<style scoped>\n",
              "    .dataframe tbody tr th:only-of-type {\n",
              "        vertical-align: middle;\n",
              "    }\n",
              "\n",
              "    .dataframe tbody tr th {\n",
              "        vertical-align: top;\n",
              "    }\n",
              "\n",
              "    .dataframe thead th {\n",
              "        text-align: right;\n",
              "    }\n",
              "</style>\n",
              "<table border=\"1\" class=\"dataframe\">\n",
              "  <thead>\n",
              "    <tr style=\"text-align: right;\">\n",
              "      <th></th>\n",
              "      <th>rank</th>\n",
              "      <th>organizationName</th>\n",
              "      <th>country</th>\n",
              "      <th>revenue</th>\n",
              "      <th>profits</th>\n",
              "      <th>assets</th>\n",
              "      <th>marketValue</th>\n",
              "    </tr>\n",
              "  </thead>\n",
              "  <tbody>\n",
              "    <tr>\n",
              "      <th>0</th>\n",
              "      <td>1.</td>\n",
              "      <td>Berkshire Hathaway</td>\n",
              "      <td>United States</td>\n",
              "      <td>$276.09 B</td>\n",
              "      <td>$89.8 B</td>\n",
              "      <td>$958.78 B</td>\n",
              "      <td>$741.48 B</td>\n",
              "    </tr>\n",
              "    <tr>\n",
              "      <th>1</th>\n",
              "      <td>2.</td>\n",
              "      <td>ICBC</td>\n",
              "      <td>China</td>\n",
              "      <td>$208.13 B</td>\n",
              "      <td>$54.03 B</td>\n",
              "      <td>$5,518.51 B</td>\n",
              "      <td>$214.43 B</td>\n",
              "    </tr>\n",
              "    <tr>\n",
              "      <th>2</th>\n",
              "      <td>3.</td>\n",
              "      <td>Saudi Arabian Oil Company (Saudi Aramco)</td>\n",
              "      <td>Saudi Arabia</td>\n",
              "      <td>$400.38 B</td>\n",
              "      <td>$105.36 B</td>\n",
              "      <td>$576.04 B</td>\n",
              "      <td>$2,292.08 B</td>\n",
              "    </tr>\n",
              "    <tr>\n",
              "      <th>3</th>\n",
              "      <td>4.</td>\n",
              "      <td>JPMorgan Chase</td>\n",
              "      <td>United States</td>\n",
              "      <td>$124.54 B</td>\n",
              "      <td>$42.12 B</td>\n",
              "      <td>$3,954.69 B</td>\n",
              "      <td>$374.45 B</td>\n",
              "    </tr>\n",
              "    <tr>\n",
              "      <th>4</th>\n",
              "      <td>5.</td>\n",
              "      <td>China Construction Bank</td>\n",
              "      <td>China</td>\n",
              "      <td>$202.07 B</td>\n",
              "      <td>$46.89 B</td>\n",
              "      <td>$4,746.95 B</td>\n",
              "      <td>$181.32 B</td>\n",
              "    </tr>\n",
              "    <tr>\n",
              "      <th>...</th>\n",
              "      <td>...</td>\n",
              "      <td>...</td>\n",
              "      <td>...</td>\n",
              "      <td>...</td>\n",
              "      <td>...</td>\n",
              "      <td>...</td>\n",
              "      <td>...</td>\n",
              "    </tr>\n",
              "    <tr>\n",
              "      <th>1995</th>\n",
              "      <td>1995.</td>\n",
              "      <td>Shenzhen Feima International Supply Chain</td>\n",
              "      <td>China</td>\n",
              "      <td>$37 M</td>\n",
              "      <td>$1.41 B</td>\n",
              "      <td>$166 M</td>\n",
              "      <td>$1.14 B</td>\n",
              "    </tr>\n",
              "    <tr>\n",
              "      <th>1996</th>\n",
              "      <td>1997.</td>\n",
              "      <td>NMDC</td>\n",
              "      <td>India</td>\n",
              "      <td>$3.52 B</td>\n",
              "      <td>$1.41 B</td>\n",
              "      <td>$5.71 B</td>\n",
              "      <td>$6.4 B</td>\n",
              "    </tr>\n",
              "    <tr>\n",
              "      <th>1997</th>\n",
              "      <td>1997.</td>\n",
              "      <td>Sichuan Changhong Electric</td>\n",
              "      <td>China</td>\n",
              "      <td>$15.72 B</td>\n",
              "      <td>$53.1 M</td>\n",
              "      <td>$12.11 B</td>\n",
              "      <td>$1.96 B</td>\n",
              "    </tr>\n",
              "    <tr>\n",
              "      <th>1998</th>\n",
              "      <td>1999.</td>\n",
              "      <td>Satellite Chemical</td>\n",
              "      <td>China</td>\n",
              "      <td>$4.41 B</td>\n",
              "      <td>$931.3 M</td>\n",
              "      <td>$7.64 B</td>\n",
              "      <td>$9.52 B</td>\n",
              "    </tr>\n",
              "    <tr>\n",
              "      <th>1999</th>\n",
              "      <td>2000.</td>\n",
              "      <td>Sun Communities</td>\n",
              "      <td>United States</td>\n",
              "      <td>$2.27 B</td>\n",
              "      <td>$375.7 M</td>\n",
              "      <td>$13.49 B</td>\n",
              "      <td>$21.71 B</td>\n",
              "    </tr>\n",
              "  </tbody>\n",
              "</table>\n",
              "<p>2000 rows × 7 columns</p>\n",
              "</div>\n",
              "      <button class=\"colab-df-convert\" onclick=\"convertToInteractive('df-07a04e0a-8e93-4d48-8f5a-ffb504bee2e6')\"\n",
              "              title=\"Convert this dataframe to an interactive table.\"\n",
              "              style=\"display:none;\">\n",
              "        \n",
              "  <svg xmlns=\"http://www.w3.org/2000/svg\" height=\"24px\"viewBox=\"0 0 24 24\"\n",
              "       width=\"24px\">\n",
              "    <path d=\"M0 0h24v24H0V0z\" fill=\"none\"/>\n",
              "    <path d=\"M18.56 5.44l.94 2.06.94-2.06 2.06-.94-2.06-.94-.94-2.06-.94 2.06-2.06.94zm-11 1L8.5 8.5l.94-2.06 2.06-.94-2.06-.94L8.5 2.5l-.94 2.06-2.06.94zm10 10l.94 2.06.94-2.06 2.06-.94-2.06-.94-.94-2.06-.94 2.06-2.06.94z\"/><path d=\"M17.41 7.96l-1.37-1.37c-.4-.4-.92-.59-1.43-.59-.52 0-1.04.2-1.43.59L10.3 9.45l-7.72 7.72c-.78.78-.78 2.05 0 2.83L4 21.41c.39.39.9.59 1.41.59.51 0 1.02-.2 1.41-.59l7.78-7.78 2.81-2.81c.8-.78.8-2.07 0-2.86zM5.41 20L4 18.59l7.72-7.72 1.47 1.35L5.41 20z\"/>\n",
              "  </svg>\n",
              "      </button>\n",
              "      \n",
              "  <style>\n",
              "    .colab-df-container {\n",
              "      display:flex;\n",
              "      flex-wrap:wrap;\n",
              "      gap: 12px;\n",
              "    }\n",
              "\n",
              "    .colab-df-convert {\n",
              "      background-color: #E8F0FE;\n",
              "      border: none;\n",
              "      border-radius: 50%;\n",
              "      cursor: pointer;\n",
              "      display: none;\n",
              "      fill: #1967D2;\n",
              "      height: 32px;\n",
              "      padding: 0 0 0 0;\n",
              "      width: 32px;\n",
              "    }\n",
              "\n",
              "    .colab-df-convert:hover {\n",
              "      background-color: #E2EBFA;\n",
              "      box-shadow: 0px 1px 2px rgba(60, 64, 67, 0.3), 0px 1px 3px 1px rgba(60, 64, 67, 0.15);\n",
              "      fill: #174EA6;\n",
              "    }\n",
              "\n",
              "    [theme=dark] .colab-df-convert {\n",
              "      background-color: #3B4455;\n",
              "      fill: #D2E3FC;\n",
              "    }\n",
              "\n",
              "    [theme=dark] .colab-df-convert:hover {\n",
              "      background-color: #434B5C;\n",
              "      box-shadow: 0px 1px 3px 1px rgba(0, 0, 0, 0.15);\n",
              "      filter: drop-shadow(0px 1px 2px rgba(0, 0, 0, 0.3));\n",
              "      fill: #FFFFFF;\n",
              "    }\n",
              "  </style>\n",
              "\n",
              "      <script>\n",
              "        const buttonEl =\n",
              "          document.querySelector('#df-07a04e0a-8e93-4d48-8f5a-ffb504bee2e6 button.colab-df-convert');\n",
              "        buttonEl.style.display =\n",
              "          google.colab.kernel.accessAllowed ? 'block' : 'none';\n",
              "\n",
              "        async function convertToInteractive(key) {\n",
              "          const element = document.querySelector('#df-07a04e0a-8e93-4d48-8f5a-ffb504bee2e6');\n",
              "          const dataTable =\n",
              "            await google.colab.kernel.invokeFunction('convertToInteractive',\n",
              "                                                     [key], {});\n",
              "          if (!dataTable) return;\n",
              "\n",
              "          const docLinkHtml = 'Like what you see? Visit the ' +\n",
              "            '<a target=\"_blank\" href=https://colab.research.google.com/notebooks/data_table.ipynb>data table notebook</a>'\n",
              "            + ' to learn more about interactive tables.';\n",
              "          element.innerHTML = '';\n",
              "          dataTable['output_type'] = 'display_data';\n",
              "          await google.colab.output.renderOutput(dataTable, element);\n",
              "          const docLink = document.createElement('div');\n",
              "          docLink.innerHTML = docLinkHtml;\n",
              "          element.appendChild(docLink);\n",
              "        }\n",
              "      </script>\n",
              "    </div>\n",
              "  </div>\n",
              "  "
            ]
          },
          "metadata": {},
          "execution_count": 55
        }
      ]
    },
    {
      "cell_type": "code",
      "source": [
        "df2.to_json('tempm.json', orient='records', lines=True)"
      ],
      "metadata": {
        "id": "SQLNcpDgDOq1"
      },
      "execution_count": 56,
      "outputs": []
    },
    {
      "cell_type": "markdown",
      "source": [
        "# Task 2\n",
        "  - Crawl Top 20 company profiles using the above extracted links based on ranking.\n",
        "  - Store in a json file with proper formatting."
      ],
      "metadata": {
        "id": "ngwUN1lEb5Bx"
      }
    },
    {
      "cell_type": "code",
      "source": [
        "df3=df2.sort_values(\"rank\").head(20)"
      ],
      "metadata": {
        "id": "xFbZOUqNb4IZ"
      },
      "execution_count": 58,
      "outputs": []
    },
    {
      "cell_type": "code",
      "source": [
        "df3.to_json('tempt2.json', orient='records', lines=True)"
      ],
      "metadata": {
        "id": "qumqmt-fm1Df"
      },
      "execution_count": 59,
      "outputs": []
    }
  ]
}